{
  "nbformat": 4,
  "nbformat_minor": 0,
  "metadata": {
    "colab": {
      "provenance": []
    },
    "kernelspec": {
      "name": "python3",
      "display_name": "Python 3"
    },
    "language_info": {
      "name": "python"
    }
  },
  "cells": [
    {
      "cell_type": "code",
      "execution_count": 1,
      "metadata": {
        "colab": {
          "base_uri": "https://localhost:8080/"
        },
        "id": "4QVFWoxcMASq",
        "outputId": "3e8d5730-8e29-434e-8aa7-a5a9f7c66524"
      },
      "outputs": [
        {
          "output_type": "stream",
          "name": "stdout",
          "text": [
            "Looking in indexes: https://pypi.org/simple, https://us-python.pkg.dev/colab-wheels/public/simple/\n",
            "Collecting surprise\n",
            "  Downloading surprise-0.1-py2.py3-none-any.whl (1.8 kB)\n",
            "Collecting scikit-surprise\n",
            "  Downloading scikit-surprise-1.1.3.tar.gz (771 kB)\n",
            "\u001b[2K     \u001b[90m━━━━━━━━━━━━━━━━━━━━━━━━━━━━━━━━━━━━━━\u001b[0m \u001b[32m772.0/772.0 kB\u001b[0m \u001b[31m12.1 MB/s\u001b[0m eta \u001b[36m0:00:00\u001b[0m\n",
            "\u001b[?25h  Preparing metadata (setup.py) ... \u001b[?25l\u001b[?25hdone\n",
            "Requirement already satisfied: joblib>=1.0.0 in /usr/local/lib/python3.9/dist-packages (from scikit-surprise->surprise) (1.2.0)\n",
            "Requirement already satisfied: numpy>=1.17.3 in /usr/local/lib/python3.9/dist-packages (from scikit-surprise->surprise) (1.22.4)\n",
            "Requirement already satisfied: scipy>=1.3.2 in /usr/local/lib/python3.9/dist-packages (from scikit-surprise->surprise) (1.10.1)\n",
            "Building wheels for collected packages: scikit-surprise\n",
            "  Building wheel for scikit-surprise (setup.py) ... \u001b[?25l\u001b[?25hdone\n",
            "  Created wheel for scikit-surprise: filename=scikit_surprise-1.1.3-cp39-cp39-linux_x86_64.whl size=3195785 sha256=2fb8b23093c8de8a3ac9a6e421dbb1505aff084c84e5cf5627f3727e28e8c04f\n",
            "  Stored in directory: /root/.cache/pip/wheels/c6/3a/46/9b17b3512bdf283c6cb84f59929cdd5199d4e754d596d22784\n",
            "Successfully built scikit-surprise\n",
            "Installing collected packages: scikit-surprise, surprise\n",
            "Successfully installed scikit-surprise-1.1.3 surprise-0.1\n"
          ]
        }
      ],
      "source": [
        "!pip install surprise"
      ]
    },
    {
      "cell_type": "code",
      "source": [
        "import pandas as pd \n",
        "import numpy as np \n",
        "from sklearn.utils import shuffle\n",
        "import matplotlib.pyplot as plt\n",
        "\n",
        "ratings=pd.read_csv('/content/ratings_small.csv')"
      ],
      "metadata": {
        "id": "4m5CqsGHMLUF"
      },
      "execution_count": 2,
      "outputs": []
    },
    {
      "cell_type": "code",
      "source": [
        "from surprise import Reader\n",
        "from surprise import Dataset\n",
        "from surprise import  SVD, NormalPredictor, KNNBasic\n",
        "from surprise.model_selection import cross_validate\n",
        "from surprise import accuracy\n",
        "from IPython.display import display\n",
        "from collections import defaultdict\n",
        "from surprise.model_selection import KFold\n",
        "from surprise.model_selection import train_test_split"
      ],
      "metadata": {
        "id": "2o3A1NxYMeQ_"
      },
      "execution_count": 3,
      "outputs": []
    },
    {
      "cell_type": "code",
      "source": [
        "import surprise"
      ],
      "metadata": {
        "id": "C27VXVxMMkx0"
      },
      "execution_count": 4,
      "outputs": []
    },
    {
      "cell_type": "code",
      "source": [
        "ratings.head()"
      ],
      "metadata": {
        "colab": {
          "base_uri": "https://localhost:8080/",
          "height": 206
        },
        "id": "rNkzPfM4Mpgm",
        "outputId": "c72db543-5685-49e3-8195-72880a805b35"
      },
      "execution_count": 5,
      "outputs": [
        {
          "output_type": "execute_result",
          "data": {
            "text/plain": [
              "   userId  movieId  rating   timestamp\n",
              "0       1       31     2.5  1260759144\n",
              "1       1     1029     3.0  1260759179\n",
              "2       1     1061     3.0  1260759182\n",
              "3       1     1129     2.0  1260759185\n",
              "4       1     1172     4.0  1260759205"
            ],
            "text/html": [
              "\n",
              "  <div id=\"df-f8a21d78-ef85-4086-824b-5183c57fc775\">\n",
              "    <div class=\"colab-df-container\">\n",
              "      <div>\n",
              "<style scoped>\n",
              "    .dataframe tbody tr th:only-of-type {\n",
              "        vertical-align: middle;\n",
              "    }\n",
              "\n",
              "    .dataframe tbody tr th {\n",
              "        vertical-align: top;\n",
              "    }\n",
              "\n",
              "    .dataframe thead th {\n",
              "        text-align: right;\n",
              "    }\n",
              "</style>\n",
              "<table border=\"1\" class=\"dataframe\">\n",
              "  <thead>\n",
              "    <tr style=\"text-align: right;\">\n",
              "      <th></th>\n",
              "      <th>userId</th>\n",
              "      <th>movieId</th>\n",
              "      <th>rating</th>\n",
              "      <th>timestamp</th>\n",
              "    </tr>\n",
              "  </thead>\n",
              "  <tbody>\n",
              "    <tr>\n",
              "      <th>0</th>\n",
              "      <td>1</td>\n",
              "      <td>31</td>\n",
              "      <td>2.5</td>\n",
              "      <td>1260759144</td>\n",
              "    </tr>\n",
              "    <tr>\n",
              "      <th>1</th>\n",
              "      <td>1</td>\n",
              "      <td>1029</td>\n",
              "      <td>3.0</td>\n",
              "      <td>1260759179</td>\n",
              "    </tr>\n",
              "    <tr>\n",
              "      <th>2</th>\n",
              "      <td>1</td>\n",
              "      <td>1061</td>\n",
              "      <td>3.0</td>\n",
              "      <td>1260759182</td>\n",
              "    </tr>\n",
              "    <tr>\n",
              "      <th>3</th>\n",
              "      <td>1</td>\n",
              "      <td>1129</td>\n",
              "      <td>2.0</td>\n",
              "      <td>1260759185</td>\n",
              "    </tr>\n",
              "    <tr>\n",
              "      <th>4</th>\n",
              "      <td>1</td>\n",
              "      <td>1172</td>\n",
              "      <td>4.0</td>\n",
              "      <td>1260759205</td>\n",
              "    </tr>\n",
              "  </tbody>\n",
              "</table>\n",
              "</div>\n",
              "      <button class=\"colab-df-convert\" onclick=\"convertToInteractive('df-f8a21d78-ef85-4086-824b-5183c57fc775')\"\n",
              "              title=\"Convert this dataframe to an interactive table.\"\n",
              "              style=\"display:none;\">\n",
              "        \n",
              "  <svg xmlns=\"http://www.w3.org/2000/svg\" height=\"24px\"viewBox=\"0 0 24 24\"\n",
              "       width=\"24px\">\n",
              "    <path d=\"M0 0h24v24H0V0z\" fill=\"none\"/>\n",
              "    <path d=\"M18.56 5.44l.94 2.06.94-2.06 2.06-.94-2.06-.94-.94-2.06-.94 2.06-2.06.94zm-11 1L8.5 8.5l.94-2.06 2.06-.94-2.06-.94L8.5 2.5l-.94 2.06-2.06.94zm10 10l.94 2.06.94-2.06 2.06-.94-2.06-.94-.94-2.06-.94 2.06-2.06.94z\"/><path d=\"M17.41 7.96l-1.37-1.37c-.4-.4-.92-.59-1.43-.59-.52 0-1.04.2-1.43.59L10.3 9.45l-7.72 7.72c-.78.78-.78 2.05 0 2.83L4 21.41c.39.39.9.59 1.41.59.51 0 1.02-.2 1.41-.59l7.78-7.78 2.81-2.81c.8-.78.8-2.07 0-2.86zM5.41 20L4 18.59l7.72-7.72 1.47 1.35L5.41 20z\"/>\n",
              "  </svg>\n",
              "      </button>\n",
              "      \n",
              "  <style>\n",
              "    .colab-df-container {\n",
              "      display:flex;\n",
              "      flex-wrap:wrap;\n",
              "      gap: 12px;\n",
              "    }\n",
              "\n",
              "    .colab-df-convert {\n",
              "      background-color: #E8F0FE;\n",
              "      border: none;\n",
              "      border-radius: 50%;\n",
              "      cursor: pointer;\n",
              "      display: none;\n",
              "      fill: #1967D2;\n",
              "      height: 32px;\n",
              "      padding: 0 0 0 0;\n",
              "      width: 32px;\n",
              "    }\n",
              "\n",
              "    .colab-df-convert:hover {\n",
              "      background-color: #E2EBFA;\n",
              "      box-shadow: 0px 1px 2px rgba(60, 64, 67, 0.3), 0px 1px 3px 1px rgba(60, 64, 67, 0.15);\n",
              "      fill: #174EA6;\n",
              "    }\n",
              "\n",
              "    [theme=dark] .colab-df-convert {\n",
              "      background-color: #3B4455;\n",
              "      fill: #D2E3FC;\n",
              "    }\n",
              "\n",
              "    [theme=dark] .colab-df-convert:hover {\n",
              "      background-color: #434B5C;\n",
              "      box-shadow: 0px 1px 3px 1px rgba(0, 0, 0, 0.15);\n",
              "      filter: drop-shadow(0px 1px 2px rgba(0, 0, 0, 0.3));\n",
              "      fill: #FFFFFF;\n",
              "    }\n",
              "  </style>\n",
              "\n",
              "      <script>\n",
              "        const buttonEl =\n",
              "          document.querySelector('#df-f8a21d78-ef85-4086-824b-5183c57fc775 button.colab-df-convert');\n",
              "        buttonEl.style.display =\n",
              "          google.colab.kernel.accessAllowed ? 'block' : 'none';\n",
              "\n",
              "        async function convertToInteractive(key) {\n",
              "          const element = document.querySelector('#df-f8a21d78-ef85-4086-824b-5183c57fc775');\n",
              "          const dataTable =\n",
              "            await google.colab.kernel.invokeFunction('convertToInteractive',\n",
              "                                                     [key], {});\n",
              "          if (!dataTable) return;\n",
              "\n",
              "          const docLinkHtml = 'Like what you see? Visit the ' +\n",
              "            '<a target=\"_blank\" href=https://colab.research.google.com/notebooks/data_table.ipynb>data table notebook</a>'\n",
              "            + ' to learn more about interactive tables.';\n",
              "          element.innerHTML = '';\n",
              "          dataTable['output_type'] = 'display_data';\n",
              "          await google.colab.output.renderOutput(dataTable, element);\n",
              "          const docLink = document.createElement('div');\n",
              "          docLink.innerHTML = docLinkHtml;\n",
              "          element.appendChild(docLink);\n",
              "        }\n",
              "      </script>\n",
              "    </div>\n",
              "  </div>\n",
              "  "
            ]
          },
          "metadata": {},
          "execution_count": 5
        }
      ]
    },
    {
      "cell_type": "code",
      "source": [
        "ratings.isnull().sum()"
      ],
      "metadata": {
        "colab": {
          "base_uri": "https://localhost:8080/"
        },
        "id": "IWWwot7-Msdl",
        "outputId": "37c4bcf1-da4e-495c-d01a-2414ed256cc8"
      },
      "execution_count": 6,
      "outputs": [
        {
          "output_type": "execute_result",
          "data": {
            "text/plain": [
              "userId       0\n",
              "movieId      0\n",
              "rating       0\n",
              "timestamp    0\n",
              "dtype: int64"
            ]
          },
          "metadata": {},
          "execution_count": 6
        }
      ]
    },
    {
      "cell_type": "code",
      "source": [
        "shuffled_ratings = shuffle(ratings)"
      ],
      "metadata": {
        "id": "9E3NKP4uMxbb"
      },
      "execution_count": 7,
      "outputs": []
    },
    {
      "cell_type": "code",
      "source": [
        "shuffled_ratings.shape"
      ],
      "metadata": {
        "colab": {
          "base_uri": "https://localhost:8080/"
        },
        "id": "GKd1nbn-M0jV",
        "outputId": "7f8a0402-d754-465c-a7bb-ff520e4c3c7c"
      },
      "execution_count": 8,
      "outputs": [
        {
          "output_type": "execute_result",
          "data": {
            "text/plain": [
              "(98998, 4)"
            ]
          },
          "metadata": {},
          "execution_count": 8
        }
      ]
    },
    {
      "cell_type": "code",
      "source": [
        "print(shuffled_ratings['rating'].max())"
      ],
      "metadata": {
        "colab": {
          "base_uri": "https://localhost:8080/"
        },
        "id": "yBFVz4t2M4fw",
        "outputId": "33d75ae5-6505-4e06-f5b7-971ff6d40403"
      },
      "execution_count": 9,
      "outputs": [
        {
          "output_type": "stream",
          "name": "stdout",
          "text": [
            "5.0\n"
          ]
        }
      ]
    },
    {
      "cell_type": "code",
      "source": [
        "col_names = ['user_id', 'item_id', 'rating', 'timestamp']\n",
        "data = pd.read_table('/content/ratings_small.csv', names=col_names)\n",
        "data = data.drop('timestamp', axis=1)\n",
        "data.info()"
      ],
      "metadata": {
        "colab": {
          "base_uri": "https://localhost:8080/"
        },
        "id": "wVtB5XIEM8UO",
        "outputId": "b855e172-7ece-43b7-e97b-0cd41ef632bf"
      },
      "execution_count": 10,
      "outputs": [
        {
          "output_type": "stream",
          "name": "stdout",
          "text": [
            "<class 'pandas.core.frame.DataFrame'>\n",
            "RangeIndex: 98999 entries, 0 to 98998\n",
            "Data columns (total 3 columns):\n",
            " #   Column   Non-Null Count  Dtype  \n",
            "---  ------   --------------  -----  \n",
            " 0   user_id  98999 non-null  object \n",
            " 1   item_id  0 non-null      float64\n",
            " 2   rating   0 non-null      float64\n",
            "dtypes: float64(2), object(1)\n",
            "memory usage: 2.3+ MB\n"
          ]
        }
      ]
    },
    {
      "cell_type": "code",
      "source": [
        "ratings.rating.hist(bins=5)\n",
        "plt.show()"
      ],
      "metadata": {
        "colab": {
          "base_uri": "https://localhost:8080/",
          "height": 430
        },
        "id": "3UszsaraNA85",
        "outputId": "cb23e40d-c31c-452f-f98c-bc95d02c98b1"
      },
      "execution_count": 11,
      "outputs": [
        {
          "output_type": "display_data",
          "data": {
            "text/plain": [
              "<Figure size 640x480 with 1 Axes>"
            ],
            "image/png": "[encoded data removed]"
          },
          "metadata": {}
        }
      ]
    },
    {
      "cell_type": "code",
      "source": [
        "ratings.rating.hist()\n",
        "plt.show()"
      ],
      "metadata": {
        "colab": {
          "base_uri": "https://localhost:8080/",
          "height": 430
        },
        "id": "mX61ySpSNEkO",
        "outputId": "3d0c1c7e-c5ca-4f02-d650-4f6e73882c13"
      },
      "execution_count": 12,
      "outputs": [
        {
          "output_type": "display_data",
          "data": {
            "text/plain": [
              "<Figure size 640x480 with 1 Axes>"
            ],
            "image/png": "[encoded data removed]"
          },
          "metadata": {}
        }
      ]
    },
    {
      "cell_type": "code",
      "source": [
        "from surprise import Dataset \n",
        "from surprise import Reader\n",
        "from surprise import SVD\n",
        "from surprise import KNNBasic\n",
        "from surprise import accuracy\n",
        "from surprise.model_selection import cross_validate\n",
        "from surprise.model_selection import train_test_split"
      ],
      "metadata": {
        "id": "yA1EFWXONIGv"
      },
      "execution_count": 13,
      "outputs": []
    },
    {
      "cell_type": "code",
      "source": [
        "PMF_RMSE = []\n",
        "PMF_MAE = []\n",
        "UB_RMSE = []\n",
        "UB_MAE = []\n",
        "IB_RMSE = []\n",
        "IB_MAE = []"
      ],
      "metadata": {
        "id": "KzU11-ZKNOVW"
      },
      "execution_count": 14,
      "outputs": []
    },
    {
      "cell_type": "code",
      "source": [
        "reader = Reader(line_format = \"user item rating timestamp\", sep = ',', skip_lines = 1)\n",
        "dataset = Dataset.load_from_file(\"/content/ratings_small.csv\", reader = reader)"
      ],
      "metadata": {
        "id": "tNgZo9Y3NSf8"
      },
      "execution_count": 15,
      "outputs": []
    },
    {
      "cell_type": "code",
      "source": [
        "algorithm = SVD(biased = False)\n",
        "CV_PMF = cross_validate(algorithm, dataset, measures = ['RMSE', 'MAE'], cv = 5, verbose = True)"
      ],
      "metadata": {
        "colab": {
          "base_uri": "https://localhost:8080/"
        },
        "id": "gyS7HSBONWo_",
        "outputId": "d1e01233-2d67-4e8d-9f90-04fed961460f"
      },
      "execution_count": 16,
      "outputs": [
        {
          "output_type": "stream",
          "name": "stdout",
          "text": [
            "Evaluating RMSE, MAE of algorithm SVD on 5 split(s).\n",
            "\n",
            "                  Fold 1  Fold 2  Fold 3  Fold 4  Fold 5  Mean    Std     \n",
            "RMSE (testset)    1.0189  1.0035  1.0022  1.0149  1.0077  1.0094  0.0065  \n",
            "MAE (testset)     0.7858  0.7726  0.7727  0.7844  0.7792  0.7789  0.0056  \n",
            "Fit time          1.29    1.67    1.27    1.97    1.27    1.49    0.28    \n",
            "Test time         0.16    0.56    0.15    0.36    0.18    0.28    0.16    \n"
          ]
        }
      ]
    },
    {
      "cell_type": "code",
      "source": [
        "algorithm = KNNBasic(sim_options = {'user_based' : True })\n",
        "CV_UB_CF = cross_validate(algorithm, dataset, measures = ['RMSE', 'MAE'], cv = 5, verbose = True)"
      ],
      "metadata": {
        "colab": {
          "base_uri": "https://localhost:8080/"
        },
        "id": "PtgE2k3PNa8-",
        "outputId": "b8440b9f-7e24-49f4-803c-5fa99a99689d"
      },
      "execution_count": 17,
      "outputs": [
        {
          "output_type": "stream",
          "name": "stdout",
          "text": [
            "Computing the msd similarity matrix...\n",
            "Done computing similarity matrix.\n",
            "Computing the msd similarity matrix...\n",
            "Done computing similarity matrix.\n",
            "Computing the msd similarity matrix...\n",
            "Done computing similarity matrix.\n",
            "Computing the msd similarity matrix...\n",
            "Done computing similarity matrix.\n",
            "Computing the msd similarity matrix...\n",
            "Done computing similarity matrix.\n",
            "Evaluating RMSE, MAE of algorithm KNNBasic on 5 split(s).\n",
            "\n",
            "                  Fold 1  Fold 2  Fold 3  Fold 4  Fold 5  Mean    Std     \n",
            "RMSE (testset)    0.9642  0.9692  0.9667  0.9762  0.9682  0.9689  0.0040  \n",
            "MAE (testset)     0.7461  0.7442  0.7447  0.7475  0.7434  0.7452  0.0014  \n",
            "Fit time          0.12    0.25    0.13    0.13    0.18    0.16    0.05    \n",
            "Test time         1.45    1.79    1.45    2.22    1.66    1.71    0.28    \n"
          ]
        }
      ]
    },
    {
      "cell_type": "code",
      "source": [
        "algorithm = KNNBasic(sim_options = {'item_based' : False })\n",
        "CV_IB_CF = cross_validate(algorithm, dataset, measures = ['RMSE', 'MAE'], cv = 5, verbose = True)"
      ],
      "metadata": {
        "colab": {
          "base_uri": "https://localhost:8080/"
        },
        "id": "5gcj5yl-NgZ2",
        "outputId": "961b2328-cd1a-4d2d-b864-18541a3a3810"
      },
      "execution_count": 18,
      "outputs": [
        {
          "output_type": "stream",
          "name": "stdout",
          "text": [
            "Computing the msd similarity matrix...\n",
            "Done computing similarity matrix.\n",
            "Computing the msd similarity matrix...\n",
            "Done computing similarity matrix.\n",
            "Computing the msd similarity matrix...\n",
            "Done computing similarity matrix.\n",
            "Computing the msd similarity matrix...\n",
            "Done computing similarity matrix.\n",
            "Computing the msd similarity matrix...\n",
            "Done computing similarity matrix.\n",
            "Evaluating RMSE, MAE of algorithm KNNBasic on 5 split(s).\n",
            "\n",
            "                  Fold 1  Fold 2  Fold 3  Fold 4  Fold 5  Mean    Std     \n",
            "RMSE (testset)    0.9705  0.9709  0.9691  0.9722  0.9658  0.9697  0.0022  \n",
            "MAE (testset)     0.7452  0.7471  0.7443  0.7479  0.7442  0.7458  0.0015  \n",
            "Fit time          0.11    0.13    0.17    0.13    0.13    0.13    0.02    \n",
            "Test time         1.56    2.38    1.57    1.48    1.55    1.71    0.34    \n"
          ]
        }
      ]
    },
    {
      "cell_type": "code",
      "source": [
        "algorithm = SVD(biased = False)\n",
        "CV_PMF = cross_validate(algorithm, dataset, measures = ['RMSE', 'MAE'], cv = 5, verbose = True)"
      ],
      "metadata": {
        "colab": {
          "base_uri": "https://localhost:8080/"
        },
        "id": "ZT1MyA9hNsEX",
        "outputId": "76c49e03-2413-49d5-f2fe-d5cab9250268"
      },
      "execution_count": 19,
      "outputs": [
        {
          "output_type": "stream",
          "name": "stdout",
          "text": [
            "Evaluating RMSE, MAE of algorithm SVD on 5 split(s).\n",
            "\n",
            "                  Fold 1  Fold 2  Fold 3  Fold 4  Fold 5  Mean    Std     \n",
            "RMSE (testset)    1.0146  1.0075  1.0128  1.0155  1.0061  1.0113  0.0038  \n",
            "MAE (testset)     0.7840  0.7782  0.7830  0.7843  0.7781  0.7815  0.0028  \n",
            "Fit time          1.32    1.82    1.93    1.30    1.30    1.53    0.28    \n",
            "Test time         0.20    0.35    0.13    0.14    0.15    0.19    0.08    \n"
          ]
        }
      ]
    },
    {
      "cell_type": "code",
      "source": [
        "PMF_RMSE.append(CV_PMF['test_rmse'].mean())\n",
        "PMF_MAE.append(CV_PMF['test_mae'].mean())\n",
        "print(PMF_RMSE)\n",
        "print(PMF_MAE)  "
      ],
      "metadata": {
        "colab": {
          "base_uri": "https://localhost:8080/"
        },
        "id": "-wazRbk6Nt8j",
        "outputId": "259bbac8-e304-40b2-f147-6b1c894b42f1"
      },
      "execution_count": 20,
      "outputs": [
        {
          "output_type": "stream",
          "name": "stdout",
          "text": [
            "[1.0113141813892572]\n",
            "[0.7815043017018832]\n"
          ]
        }
      ]
    },
    {
      "cell_type": "code",
      "source": [
        "UB_RMSE.append(CV_UB_CF['test_rmse'].mean())\n",
        "UB_MAE.append(CV_UB_CF['test_mae'].mean())\n",
        "print(UB_RMSE)\n",
        "print(UB_MAE)"
      ],
      "metadata": {
        "colab": {
          "base_uri": "https://localhost:8080/"
        },
        "id": "TQbNriqTN13N",
        "outputId": "dc57fc43-c764-4d34-8ebf-42173fcf3c07"
      },
      "execution_count": 21,
      "outputs": [
        {
          "output_type": "stream",
          "name": "stdout",
          "text": [
            "[0.9689173113604597]\n",
            "[0.7451873856297506]\n"
          ]
        }
      ]
    },
    {
      "cell_type": "code",
      "source": [
        "IB_RMSE.append(CV_IB_CF['test_rmse'].mean())\n",
        "IB_MAE.append(CV_IB_CF['test_mae'].mean())\n",
        "print(IB_RMSE)\n",
        "print(IB_MAE)"
      ],
      "metadata": {
        "colab": {
          "base_uri": "https://localhost:8080/"
        },
        "id": "zbRv4DRcN8U6",
        "outputId": "1766ca86-6897-4f41-e8c7-628470f65d0e"
      },
      "execution_count": 22,
      "outputs": [
        {
          "output_type": "stream",
          "name": "stdout",
          "text": [
            "[0.9697158326302973]\n",
            "[0.7457607695216149]\n"
          ]
        }
      ]
    },
    {
      "cell_type": "code",
      "source": [
        "algo_UB_cosine = KNNBasic(sim_options = {'name' : 'cosine', 'user_based' : True})\n",
        "CV_UB_cosine = cross_validate(algo_UB_cosine, dataset, measures = ['RMSE', 'MAE'], cv = 5, verbose = True)\n",
        "algo_UB_msd = KNNBasic(sim_options = {'user_based' : True})\n",
        "CV_UB_msd = cross_validate(algo_UB_msd, dataset, measures = ['RMSE', 'MAE'], cv = 5, verbose = True)\n",
        "algo_UB_pearson = KNNBasic(sim_options = {'name' : 'pearson_baseline', 'user_based' : True})\n",
        "CV_UB_pearson = cross_validate(algo_UB_pearson, dataset, measures = ['RMSE', 'MAE'], cv = 5, verbose = True)\n",
        "\n",
        "algo_IB_cosine = KNNBasic(sim_options = {'name' : 'cosine', 'user_based' : False})\n",
        "CV_IB_cosine = cross_validate(algo_IB_cosine, dataset, measures = ['RMSE', 'MAE'], cv = 5, verbose = True)\n",
        "algo_IB_msd = KNNBasic(sim_options = {'user_based' : False})\n",
        "CV_IB_msd = cross_validate(algo_IB_msd, dataset, measures = ['RMSE', 'MAE'], cv = 5, verbose = True)\n",
        "algo_IB_pearson = KNNBasic(sim_options = {'name' : 'pearson_baseline', 'user_based' : False})\n",
        "CV_IB_pearson = cross_validate(algo_IB_pearson, dataset, measures = ['RMSE', 'MAE'], cv = 5, verbose = True)"
      ],
      "metadata": {
        "colab": {
          "base_uri": "https://localhost:8080/"
        },
        "id": "5_OaAjEeN_tN",
        "outputId": "ec4f4d2c-5699-4877-9dbc-299bf60f9215"
      },
      "execution_count": 23,
      "outputs": [
        {
          "output_type": "stream",
          "name": "stdout",
          "text": [
            "Computing the cosine similarity matrix...\n",
            "Done computing similarity matrix.\n",
            "Computing the cosine similarity matrix...\n",
            "Done computing similarity matrix.\n",
            "Computing the cosine similarity matrix...\n",
            "Done computing similarity matrix.\n",
            "Computing the cosine similarity matrix...\n",
            "Done computing similarity matrix.\n",
            "Computing the cosine similarity matrix...\n",
            "Done computing similarity matrix.\n",
            "Evaluating RMSE, MAE of algorithm KNNBasic on 5 split(s).\n",
            "\n",
            "                  Fold 1  Fold 2  Fold 3  Fold 4  Fold 5  Mean    Std     \n",
            "RMSE (testset)    0.9923  0.9828  0.9992  0.9992  0.9979  0.9943  0.0063  \n",
            "MAE (testset)     0.7660  0.7624  0.7724  0.7737  0.7707  0.7690  0.0042  \n",
            "Fit time          0.24    0.19    0.18    0.17    0.18    0.19    0.03    \n",
            "Test time         1.82    2.13    1.48    1.59    1.45    1.69    0.25    \n",
            "Computing the msd similarity matrix...\n",
            "Done computing similarity matrix.\n",
            "Computing the msd similarity matrix...\n",
            "Done computing similarity matrix.\n",
            "Computing the msd similarity matrix...\n",
            "Done computing similarity matrix.\n",
            "Computing the msd similarity matrix...\n",
            "Done computing similarity matrix.\n",
            "Computing the msd similarity matrix...\n",
            "Done computing similarity matrix.\n",
            "Evaluating RMSE, MAE of algorithm KNNBasic on 5 split(s).\n",
            "\n",
            "                  Fold 1  Fold 2  Fold 3  Fold 4  Fold 5  Mean    Std     \n",
            "RMSE (testset)    0.9657  0.9723  0.9737  0.9618  0.9712  0.9689  0.0045  \n",
            "MAE (testset)     0.7426  0.7488  0.7487  0.7398  0.7462  0.7452  0.0035  \n",
            "Fit time          0.11    0.18    0.14    0.13    0.13    0.14    0.02    \n",
            "Test time         2.20    1.60    1.42    1.46    1.47    1.63    0.29    \n",
            "Estimating biases using als...\n",
            "Computing the pearson_baseline similarity matrix...\n",
            "Done computing similarity matrix.\n",
            "Estimating biases using als...\n",
            "Computing the pearson_baseline similarity matrix...\n",
            "Done computing similarity matrix.\n",
            "Estimating biases using als...\n",
            "Computing the pearson_baseline similarity matrix...\n",
            "Done computing similarity matrix.\n",
            "Estimating biases using als...\n",
            "Computing the pearson_baseline similarity matrix...\n",
            "Done computing similarity matrix.\n",
            "Estimating biases using als...\n",
            "Computing the pearson_baseline similarity matrix...\n",
            "Done computing similarity matrix.\n",
            "Evaluating RMSE, MAE of algorithm KNNBasic on 5 split(s).\n",
            "\n",
            "                  Fold 1  Fold 2  Fold 3  Fold 4  Fold 5  Mean    Std     \n",
            "RMSE (testset)    1.0109  0.9961  1.0029  0.9931  1.0038  1.0014  0.0063  \n",
            "MAE (testset)     0.7817  0.7682  0.7752  0.7672  0.7737  0.7732  0.0053  \n",
            "Fit time          0.45    0.48    0.62    0.48    0.53    0.51    0.06    \n",
            "Test time         1.37    2.13    1.38    1.38    1.43    1.54    0.30    \n",
            "Computing the cosine similarity matrix...\n",
            "Done computing similarity matrix.\n",
            "Computing the cosine similarity matrix...\n",
            "Done computing similarity matrix.\n",
            "Computing the cosine similarity matrix...\n",
            "Done computing similarity matrix.\n",
            "Computing the cosine similarity matrix...\n",
            "Done computing similarity matrix.\n",
            "Computing the cosine similarity matrix...\n",
            "Done computing similarity matrix.\n",
            "Evaluating RMSE, MAE of algorithm KNNBasic on 5 split(s).\n",
            "\n",
            "                  Fold 1  Fold 2  Fold 3  Fold 4  Fold 5  Mean    Std     \n",
            "RMSE (testset)    0.9958  0.9965  0.9935  0.9995  0.9944  0.9960  0.0021  \n",
            "MAE (testset)     0.7750  0.7747  0.7745  0.7791  0.7716  0.7750  0.0024  \n",
            "Fit time          8.32    6.60    6.13    5.82    6.01    6.58    0.91    \n",
            "Test time         6.14    6.52    8.12    8.23    7.99    7.40    0.89    \n",
            "Computing the msd similarity matrix...\n",
            "Done computing similarity matrix.\n",
            "Computing the msd similarity matrix...\n",
            "Done computing similarity matrix.\n",
            "Computing the msd similarity matrix...\n",
            "Done computing similarity matrix.\n",
            "Computing the msd similarity matrix...\n",
            "Done computing similarity matrix.\n",
            "Computing the msd similarity matrix...\n",
            "Done computing similarity matrix.\n",
            "Evaluating RMSE, MAE of algorithm KNNBasic on 5 split(s).\n",
            "\n",
            "                  Fold 1  Fold 2  Fold 3  Fold 4  Fold 5  Mean    Std     \n",
            "RMSE (testset)    0.9320  0.9267  0.9370  0.9369  0.9471  0.9359  0.0067  \n",
            "MAE (testset)     0.7174  0.7160  0.7229  0.7221  0.7299  0.7217  0.0049  \n",
            "Fit time          3.62    3.73    3.70    3.79    3.66    3.70    0.05    \n",
            "Test time         7.75    8.03    10.32   8.31    12.57   9.39    1.83    \n",
            "Estimating biases using als...\n",
            "Computing the pearson_baseline similarity matrix...\n",
            "Done computing similarity matrix.\n",
            "Estimating biases using als...\n",
            "Computing the pearson_baseline similarity matrix...\n",
            "Done computing similarity matrix.\n",
            "Estimating biases using als...\n",
            "Computing the pearson_baseline similarity matrix...\n",
            "Done computing similarity matrix.\n",
            "Estimating biases using als...\n",
            "Computing the pearson_baseline similarity matrix...\n",
            "Done computing similarity matrix.\n",
            "Estimating biases using als...\n",
            "Computing the pearson_baseline similarity matrix...\n",
            "Done computing similarity matrix.\n",
            "Evaluating RMSE, MAE of algorithm KNNBasic on 5 split(s).\n",
            "\n",
            "                  Fold 1  Fold 2  Fold 3  Fold 4  Fold 5  Mean    Std     \n",
            "RMSE (testset)    0.9510  0.9333  0.9502  0.9395  0.9390  0.9426  0.0069  \n",
            "MAE (testset)     0.7190  0.7079  0.7191  0.7096  0.7122  0.7136  0.0047  \n",
            "Fit time          9.31    7.51    6.46    6.43    6.62    7.27    1.10    \n",
            "Test time         6.78    6.71    7.04    7.88    7.80    7.24    0.50    \n"
          ]
        }
      ]
    },
    {
      "cell_type": "code",
      "source": [
        "PMF_RMSE.append(CV_PMF['test_rmse'].mean())\n",
        "PMF_MAE.append(CV_PMF['test_mae'].mean())\n",
        "print(PMF_RMSE)\n",
        "print(PMF_MAE)"
      ],
      "metadata": {
        "colab": {
          "base_uri": "https://localhost:8080/"
        },
        "id": "ff_FmKbNOFfw",
        "outputId": "dd5eddf4-13f0-4e5d-c4e1-e5159a0d7a6e"
      },
      "execution_count": 24,
      "outputs": [
        {
          "output_type": "stream",
          "name": "stdout",
          "text": [
            "[1.0113141813892572, 1.0113141813892572]\n",
            "[0.7815043017018832, 0.7815043017018832]\n"
          ]
        }
      ]
    },
    {
      "cell_type": "code",
      "source": [
        "UB_RMSE.append(CV_UB_CF['test_rmse'].mean())\n",
        "UB_MAE.append(CV_UB_CF['test_mae'].mean())\n",
        "print(UB_RMSE)\n",
        "print(UB_MAE)"
      ],
      "metadata": {
        "colab": {
          "base_uri": "https://localhost:8080/"
        },
        "id": "qwrC1VJWPDu7",
        "outputId": "ea6e80c4-94c1-4bf6-bdae-b228ce3891c6"
      },
      "execution_count": 25,
      "outputs": [
        {
          "output_type": "stream",
          "name": "stdout",
          "text": [
            "[0.9689173113604597, 0.9689173113604597]\n",
            "[0.7451873856297506, 0.7451873856297506]\n"
          ]
        }
      ]
    },
    {
      "cell_type": "code",
      "source": [
        "IB_RMSE.append(CV_IB_CF['test_rmse'].mean())\n",
        "IB_MAE.append(CV_IB_CF['test_mae'].mean())\n",
        "print(IB_RMSE)\n",
        "print(IB_MAE)"
      ],
      "metadata": {
        "colab": {
          "base_uri": "https://localhost:8080/"
        },
        "id": "sV-j5ysKPHwq",
        "outputId": "15b4f322-04ca-4bfa-ec46-87d638ec0148"
      },
      "execution_count": 26,
      "outputs": [
        {
          "output_type": "stream",
          "name": "stdout",
          "text": [
            "[0.9697158326302973, 0.9697158326302973]\n",
            "[0.7457607695216149, 0.7457607695216149]\n"
          ]
        }
      ]
    },
    {
      "cell_type": "code",
      "source": [
        "algo_UB_cosine = KNNBasic(sim_options = {'name' : 'cosine', 'user_based' : True})\n",
        "CV_UB_cosine = cross_validate(algo_UB_cosine, dataset, measures = ['RMSE', 'MAE'], cv = 5, verbose = True)\n",
        "algo_UB_msd = KNNBasic(sim_options = {'user_based' : True})\n",
        "CV_UB_msd = cross_validate(algo_UB_msd, dataset, measures = ['RMSE', 'MAE'], cv = 5, verbose = True)\n",
        "algo_UB_pearson = KNNBasic(sim_options = {'name' : 'pearson_baseline', 'user_based' : True})\n",
        "CV_UB_pearson = cross_validate(algo_UB_pearson, dataset, measures = ['RMSE', 'MAE'], cv = 5, verbose = True)\n",
        "\n",
        "algo_IB_cosine = KNNBasic(sim_options = {'name' : 'cosine', 'user_based' : False})\n",
        "CV_IB_cosine = cross_validate(algo_IB_cosine, dataset, measures = ['RMSE', 'MAE'], cv = 5, verbose = True)\n",
        "algo_IB_msd = KNNBasic(sim_options = {'user_based' : False})\n",
        "CV_IB_msd = cross_validate(algo_IB_msd, dataset, measures = ['RMSE', 'MAE'], cv = 5, verbose = True)\n",
        "algo_IB_pearson = KNNBasic(sim_options = {'name' : 'pearson_baseline', 'user_based' : False})\n",
        "CV_IB_pearson = cross_validate(algo_IB_pearson, dataset, measures = ['RMSE', 'MAE'], cv = 5, verbose = True)"
      ],
      "metadata": {
        "colab": {
          "base_uri": "https://localhost:8080/"
        },
        "id": "xtaQnEv5PWJB",
        "outputId": "e19ca30f-72b7-4a4d-a387-dbbf57444d61"
      },
      "execution_count": 27,
      "outputs": [
        {
          "output_type": "stream",
          "name": "stdout",
          "text": [
            "Computing the cosine similarity matrix...\n",
            "Done computing similarity matrix.\n",
            "Computing the cosine similarity matrix...\n",
            "Done computing similarity matrix.\n",
            "Computing the cosine similarity matrix...\n",
            "Done computing similarity matrix.\n",
            "Computing the cosine similarity matrix...\n",
            "Done computing similarity matrix.\n",
            "Computing the cosine similarity matrix...\n",
            "Done computing similarity matrix.\n",
            "Evaluating RMSE, MAE of algorithm KNNBasic on 5 split(s).\n",
            "\n",
            "                  Fold 1  Fold 2  Fold 3  Fold 4  Fold 5  Mean    Std     \n",
            "RMSE (testset)    0.9942  0.9939  0.9991  0.9909  0.9990  0.9954  0.0032  \n",
            "MAE (testset)     0.7700  0.7696  0.7699  0.7648  0.7719  0.7692  0.0024  \n",
            "Fit time          0.19    0.23    0.19    0.19    0.28    0.22    0.03    \n",
            "Test time         2.00    2.46    1.51    2.25    1.80    2.00    0.33    \n",
            "Computing the msd similarity matrix...\n",
            "Done computing similarity matrix.\n",
            "Computing the msd similarity matrix...\n",
            "Done computing similarity matrix.\n",
            "Computing the msd similarity matrix...\n",
            "Done computing similarity matrix.\n",
            "Computing the msd similarity matrix...\n",
            "Done computing similarity matrix.\n",
            "Computing the msd similarity matrix...\n",
            "Done computing similarity matrix.\n",
            "Evaluating RMSE, MAE of algorithm KNNBasic on 5 split(s).\n",
            "\n",
            "                  Fold 1  Fold 2  Fold 3  Fold 4  Fold 5  Mean    Std     \n",
            "RMSE (testset)    0.9739  0.9731  0.9773  0.9632  0.9658  0.9706  0.0053  \n",
            "MAE (testset)     0.7509  0.7488  0.7531  0.7380  0.7428  0.7467  0.0056  \n",
            "Fit time          0.14    0.13    0.14    0.14    0.14    0.14    0.00    \n",
            "Test time         1.49    1.66    1.47    1.48    2.25    1.67    0.30    \n",
            "Estimating biases using als...\n",
            "Computing the pearson_baseline similarity matrix...\n",
            "Done computing similarity matrix.\n",
            "Estimating biases using als...\n",
            "Computing the pearson_baseline similarity matrix...\n",
            "Done computing similarity matrix.\n",
            "Estimating biases using als...\n",
            "Computing the pearson_baseline similarity matrix...\n",
            "Done computing similarity matrix.\n",
            "Estimating biases using als...\n",
            "Computing the pearson_baseline similarity matrix...\n",
            "Done computing similarity matrix.\n",
            "Estimating biases using als...\n",
            "Computing the pearson_baseline similarity matrix...\n",
            "Done computing similarity matrix.\n",
            "Evaluating RMSE, MAE of algorithm KNNBasic on 5 split(s).\n",
            "\n",
            "                  Fold 1  Fold 2  Fold 3  Fold 4  Fold 5  Mean    Std     \n",
            "RMSE (testset)    0.9943  1.0069  1.0023  1.0026  0.9940  1.0000  0.0051  \n",
            "MAE (testset)     0.7663  0.7789  0.7752  0.7729  0.7692  0.7725  0.0044  \n",
            "Fit time          0.62    0.56    0.58    0.55    0.57    0.58    0.03    \n",
            "Test time         1.42    1.60    1.45    1.69    2.07    1.65    0.23    \n",
            "Computing the cosine similarity matrix...\n",
            "Done computing similarity matrix.\n",
            "Computing the cosine similarity matrix...\n",
            "Done computing similarity matrix.\n",
            "Computing the cosine similarity matrix...\n",
            "Done computing similarity matrix.\n",
            "Computing the cosine similarity matrix...\n",
            "Done computing similarity matrix.\n",
            "Computing the cosine similarity matrix...\n",
            "Done computing similarity matrix.\n",
            "Evaluating RMSE, MAE of algorithm KNNBasic on 5 split(s).\n",
            "\n",
            "                  Fold 1  Fold 2  Fold 3  Fold 4  Fold 5  Mean    Std     \n",
            "RMSE (testset)    0.9943  0.9968  0.9927  1.0034  0.9922  0.9959  0.0041  \n",
            "MAE (testset)     0.7732  0.7749  0.7729  0.7819  0.7720  0.7750  0.0036  \n",
            "Fit time          6.49    5.95    5.78    5.59    6.03    5.97    0.30    \n",
            "Test time         9.33    7.96    7.68    7.79    7.57    8.07    0.65    \n",
            "Computing the msd similarity matrix...\n",
            "Done computing similarity matrix.\n",
            "Computing the msd similarity matrix...\n",
            "Done computing similarity matrix.\n",
            "Computing the msd similarity matrix...\n",
            "Done computing similarity matrix.\n",
            "Computing the msd similarity matrix...\n",
            "Done computing similarity matrix.\n",
            "Computing the msd similarity matrix...\n",
            "Done computing similarity matrix.\n",
            "Evaluating RMSE, MAE of algorithm KNNBasic on 5 split(s).\n",
            "\n",
            "                  Fold 1  Fold 2  Fold 3  Fold 4  Fold 5  Mean    Std     \n",
            "RMSE (testset)    0.9295  0.9441  0.9371  0.9331  0.9349  0.9357  0.0049  \n",
            "MAE (testset)     0.7174  0.7269  0.7218  0.7199  0.7235  0.7219  0.0032  \n",
            "Fit time          4.00    3.90    3.88    3.79    3.89    3.89    0.07    \n",
            "Test time         7.88    8.25    8.15    7.94    8.20    8.08    0.15    \n",
            "Estimating biases using als...\n",
            "Computing the pearson_baseline similarity matrix...\n",
            "Done computing similarity matrix.\n",
            "Estimating biases using als...\n",
            "Computing the pearson_baseline similarity matrix...\n",
            "Done computing similarity matrix.\n",
            "Estimating biases using als...\n",
            "Computing the pearson_baseline similarity matrix...\n",
            "Done computing similarity matrix.\n",
            "Estimating biases using als...\n",
            "Computing the pearson_baseline similarity matrix...\n",
            "Done computing similarity matrix.\n",
            "Estimating biases using als...\n",
            "Computing the pearson_baseline similarity matrix...\n",
            "Done computing similarity matrix.\n",
            "Evaluating RMSE, MAE of algorithm KNNBasic on 5 split(s).\n",
            "\n",
            "                  Fold 1  Fold 2  Fold 3  Fold 4  Fold 5  Mean    Std     \n",
            "RMSE (testset)    0.9468  0.9428  0.9301  0.9452  0.9435  0.9417  0.0060  \n",
            "MAE (testset)     0.7155  0.7147  0.7050  0.7136  0.7138  0.7125  0.0038  \n",
            "Fit time          6.34    6.78    6.64    6.58    6.10    6.49    0.24    \n",
            "Test time         8.39    6.66    6.81    7.70    7.68    7.45    0.64    \n"
          ]
        }
      ]
    },
    {
      "cell_type": "code",
      "source": [
        "UB_RMSE_PLOT = []\n",
        "UB_MAE_PLOT = []\n",
        "UB_RMSE_PLOT.append(CV_UB_cosine['test_rmse'].mean())\n",
        "UB_RMSE_PLOT.append(CV_UB_msd['test_rmse'].mean())\n",
        "UB_RMSE_PLOT.append(CV_UB_pearson['test_rmse'].mean())\n",
        "UB_MAE_PLOT.append(CV_UB_cosine['test_mae'].mean())\n",
        "UB_MAE_PLOT.append(CV_UB_msd['test_mae'].mean())\n",
        "UB_MAE_PLOT.append(CV_UB_pearson['test_mae'].mean())"
      ],
      "metadata": {
        "id": "FRnmfOfHPX5f"
      },
      "execution_count": 28,
      "outputs": []
    },
    {
      "cell_type": "code",
      "source": [
        "plt.title(\"User Based CF: Cosine, MSD, Pearson\")\n",
        "plt.plot(UB_RMSE_PLOT, label = 'RMSE')\n",
        "plt.plot(UB_MAE_PLOT, label = 'MAE')\n",
        "plt.legend()"
      ],
      "metadata": {
        "colab": {
          "base_uri": "https://localhost:8080/",
          "height": 469
        },
        "id": "s3kbd8wYQTc0",
        "outputId": "fe22d050-87fa-453b-f265-4a6b4825dcef"
      },
      "execution_count": 29,
      "outputs": [
        {
          "output_type": "execute_result",
          "data": {
            "text/plain": [
              "<matplotlib.legend.Legend at 0x7f5ab91a7dc0>"
            ]
          },
          "metadata": {},
          "execution_count": 29
        },
        {
          "output_type": "display_data",
          "data": {
            "text/plain": [
              "<Figure size 640x480 with 1 Axes>"
            ],
            "image/png": "[encoded data removed]"
          },
          "metadata": {}
        }
      ]
    },
    {
      "cell_type": "code",
      "source": [
        "IB_RMSE_PLOT = []\n",
        "IB_MAE_PLOT = []\n",
        "IB_RMSE_PLOT.append(CV_IB_cosine['test_rmse'].mean())\n",
        "IB_RMSE_PLOT.append(CV_IB_msd['test_rmse'].mean())\n",
        "IB_RMSE_PLOT.append(CV_IB_pearson['test_rmse'].mean())\n",
        "IB_MAE_PLOT.append(CV_IB_cosine['test_mae'].mean())\n",
        "IB_MAE_PLOT.append(CV_IB_msd['test_mae'].mean())\n",
        "IB_MAE_PLOT.append(CV_IB_pearson['test_mae'].mean())"
      ],
      "metadata": {
        "id": "sNbspMzAQXRG"
      },
      "execution_count": 30,
      "outputs": []
    },
    {
      "cell_type": "code",
      "source": [
        "plt.title(\"Item Based CF: Cosine, MSD, Pearson\")\n",
        "plt.plot(IB_RMSE_PLOT, label = 'RMSE')\n",
        "plt.plot(IB_MAE_PLOT, label = 'MAE')\n",
        "plt.legend()"
      ],
      "metadata": {
        "colab": {
          "base_uri": "https://localhost:8080/",
          "height": 469
        },
        "id": "u1TmYj-NQdr3",
        "outputId": "23317c06-a7bb-4683-bd13-d84c3db76fe5"
      },
      "execution_count": 31,
      "outputs": [
        {
          "output_type": "execute_result",
          "data": {
            "text/plain": [
              "<matplotlib.legend.Legend at 0x7f5ab08c0fa0>"
            ]
          },
          "metadata": {},
          "execution_count": 31
        },
        {
          "output_type": "display_data",
          "data": {
            "text/plain": [
              "<Figure size 640x480 with 1 Axes>"
            ],
            "image/png": "[encoded data removed]"
          },
          "metadata": {}
        }
      ]
    },
    {
      "cell_type": "code",
      "source": [
        "Range = range(1,101)\n",
        "User = []\n",
        "\n",
        "for i in Range:\n",
        "        algo = KNNBasic(k = i, sim_options = {'user_based' : True }, verbose = False)\n",
        "        CV_User = cross_validate(algo, dataset, measures=['rmse', 'mae'],cv = 5,verbose = False)\n",
        "        User.append(CV_User['test_rmse'].mean())\n",
        "        \n",
        "plt.plot(User)"
      ],
      "metadata": {
        "colab": {
          "base_uri": "https://localhost:8080/",
          "height": 447
        },
        "id": "wyp7uDB0Qmew",
        "outputId": "cccfd4bb-404d-4366-8c05-61822e0e293f"
      },
      "execution_count": 32,
      "outputs": [
        {
          "output_type": "execute_result",
          "data": {
            "text/plain": [
              "[<matplotlib.lines.Line2D at 0x7f5ab0f7f760>]"
            ]
          },
          "metadata": {},
          "execution_count": 32
        },
        {
          "output_type": "display_data",
          "data": {
            "text/plain": [
              "<Figure size 640x480 with 1 Axes>"
            ],
            "image/png": "[encoded data removed]"
          },
          "metadata": {}
        }
      ]
    },
    {
      "cell_type": "code",
      "source": [
        "Range = range(1,101)\n",
        "Item = []\n",
        "\n",
        "for i in Range:\n",
        "        algo = KNNBasic(k = i, sim_options = {'user_based' : False }, verbose = False)\n",
        "        CV_Item = cross_validate(algo, dataset, measures=['rmse', 'mae'],cv = 5,verbose = False)\n",
        "        Item.append(CV_Item['test_rmse'].mean())\n",
        "        \n",
        "plt.plot(Item)"
      ],
      "metadata": {
        "colab": {
          "base_uri": "https://localhost:8080/",
          "height": 447
        },
        "id": "3wgzIRsCQpzN",
        "outputId": "0b8a09e0-eeea-4c6b-bd2d-573903dbdbad"
      },
      "execution_count": 33,
      "outputs": [
        {
          "output_type": "execute_result",
          "data": {
            "text/plain": [
              "[<matplotlib.lines.Line2D at 0x7f5ab078c760>]"
            ]
          },
          "metadata": {},
          "execution_count": 33
        },
        {
          "output_type": "display_data",
          "data": {
            "text/plain": [
              "<Figure size 640x480 with 1 Axes>"
            ],
            "image/png": "[encoded data removed]"
          },
          "metadata": {}
        }
      ]
    },
    {
      "cell_type": "code",
      "source": [
        "User.index(min(User))"
      ],
      "metadata": {
        "colab": {
          "base_uri": "https://localhost:8080/"
        },
        "id": "PyfqKmBkuMtw",
        "outputId": "2e34646e-a77e-4aac-837e-4de765d884f0"
      },
      "execution_count": 34,
      "outputs": [
        {
          "output_type": "execute_result",
          "data": {
            "text/plain": [
              "15"
            ]
          },
          "metadata": {},
          "execution_count": 34
        }
      ]
    },
    {
      "cell_type": "code",
      "source": [
        "Item.index(min(Item))"
      ],
      "metadata": {
        "colab": {
          "base_uri": "https://localhost:8080/"
        },
        "id": "U6IVwMrquOdb",
        "outputId": "d19cb343-3a68-4510-fefc-88af3fd9ed4d"
      },
      "execution_count": 35,
      "outputs": [
        {
          "output_type": "execute_result",
          "data": {
            "text/plain": [
              "56"
            ]
          },
          "metadata": {},
          "execution_count": 35
        }
      ]
    },
    {
      "cell_type": "code",
      "source": [
        "Range = range(1,101)\n",
        "Item = []\n",
        "\n",
        "for i in Range:\n",
        "        algo = KNNBasic(k = i, sim_options = {'user_based' : False }, verbose = False)\n",
        "        CV_Item = cross_validate(algo, dataset, measures=['rmse', 'mae'],cv = 5,verbose = False)\n",
        "        Item.append(CV_Item['test_mae'].mean())\n",
        "        \n",
        "plt.plot(Item)"
      ],
      "metadata": {
        "colab": {
          "base_uri": "https://localhost:8080/",
          "height": 447
        },
        "id": "wyv4lQTGyufj",
        "outputId": "68560a72-bc0f-4813-85fc-7fb82d2f1ff1"
      },
      "execution_count": 36,
      "outputs": [
        {
          "output_type": "execute_result",
          "data": {
            "text/plain": [
              "[<matplotlib.lines.Line2D at 0x7f5ab1783fa0>]"
            ]
          },
          "metadata": {},
          "execution_count": 36
        },
        {
          "output_type": "display_data",
          "data": {
            "text/plain": [
              "<Figure size 640x480 with 1 Axes>"
            ],
            "image/png": "[encoded data removed]"
          },
          "metadata": {}
        }
      ]
    },
    {
      "cell_type": "code",
      "source": [
        "Range = range(1,101)\n",
        "User = []\n",
        "\n",
        "for i in Range:\n",
        "        algo = KNNBasic(k = i, sim_options = {'user_based' : True }, verbose = False)\n",
        "        CV_User = cross_validate(algo, dataset, measures=['rmse', 'mae'],cv = 5,verbose = False)\n",
        "        User.append(CV_User['test_mae'].mean())\n",
        "        \n",
        "plt.plot(User)"
      ],
      "metadata": {
        "colab": {
          "base_uri": "https://localhost:8080/",
          "height": 447
        },
        "id": "JCJr-UU_9PI-",
        "outputId": "c25ad3e6-5217-45a5-b94d-691a3b945f5a"
      },
      "execution_count": 37,
      "outputs": [
        {
          "output_type": "execute_result",
          "data": {
            "text/plain": [
              "[<matplotlib.lines.Line2D at 0x7f5aae3c52b0>]"
            ]
          },
          "metadata": {},
          "execution_count": 37
        },
        {
          "output_type": "display_data",
          "data": {
            "text/plain": [
              "<Figure size 640x480 with 1 Axes>"
            ],
            "image/png": "[encoded data removed]"
          },
          "metadata": {}
        }
      ]
    }
  ]
}